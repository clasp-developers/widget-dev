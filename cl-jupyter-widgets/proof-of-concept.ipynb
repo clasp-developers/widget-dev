{
 "cells": [
  {
   "cell_type": "code",
   "execution_count": null,
   "metadata": {},
   "outputs": [],
   "source": [
    "(cl-jupyter::send-comm-open\n",
    " '(\n",
    "   (\"comm_id\" . \"1f08516fb55f4ab093a716b39e6caff2\")\n",
    "   (\"data\" . (\n",
    "              (\"_dom_classes\" )\n",
    "              (\"_model_module\" . \"jupyter-js-widgets\")\n",
    "              (\"_model_module_version\" . \"~2.1.4\")\n",
    "              (\"_model_name\" . \"IntSliderModel\")\n",
    "              (\"_range\" . :false)\n",
    "              (\"_view_module\" . \"jupyter-js-widgets\")\n",
    "              (\"_view_module_version\" . \"~2.1.4\")\n",
    "              (\"_view_name\" . \"IntSliderView\")\n",
    "              (\"continuous_update\" . :true)\n",
    "              (\"description\" . \"\")\n",
    "              (\"disabled\" . :false)\n",
    "              (\"layout\" . \"IPY_MODEL_caccfc040f4844b4a6c856f0b8440e79\")\n",
    "              (\"max\" . 100)\n",
    "              (\"min\" . 0)\n",
    "              (\"msg_throttle\" . 1)\n",
    "              (\"orientation\" . \"horizontal\")\n",
    "              (\"readout\" . :true)\n",
    "              (\"readout_format\" . \"d\")\n",
    "              (\"step\" . 1)\n",
    "              (\"style\" . \"IPY_MODEL_c805a28170174967957af602c6dea766\")\n",
    "              (\"value\" . 0)\n",
    "              ))\n",
    "   (\"target_module\" . :false)\n",
    "   (\"target_name\" . \"jupyter.widget\")\n",
    "   ))"
   ]
  },
  {
   "cell_type": "code",
   "execution_count": 3,
   "metadata": {},
   "outputs": [
    {
     "data": {
      "text/plain": [
       "0"
      ]
     },
     "execution_count": 3,
     "metadata": {},
     "output_type": "execute_result"
    }
   ],
   "source": [
    "(cl-jupyter::send-comm-open\n",
    " '(\n",
    "   (\"comm_id\" . \"1f08516fb55f4ab093a716b39e6caff2\")\n",
    "   (\"data\" . (\n",
    "              (\"buffer_paths\" )\n",
    "              (\"state\" . (\n",
    "                          (\"_dom_classes\" )\n",
    "                          (\"_model_module\" . \"jupyter-js-widgets\")\n",
    "                          (\"_model_module_version\" . \"~2.1.4\")\n",
    "                          (\"_model_name\" . \"IntSliderModel\")\n",
    "                          (\"_range\" . :false)\n",
    "                          (\"_view_module\" . \"jupyter-js-widgets\")\n",
    "                          (\"_view_module_version\" . \"~2.1.4\")\n",
    "                          (\"_view_name\" . \"IntSliderView\")\n",
    "                          (\"continuous_update\" . :true)\n",
    "                          (\"description\" . \"\")\n",
    "                          (\"disabled\" . :false)\n",
    "                          (\"layout\" . \"IPY_MODEL_caccfc040f4844b4a6c856f0b8440e79\")\n",
    "                          (\"max\" . 100)\n",
    "                          (\"min\" . 0)\n",
    "                          (\"msg_throttle\" . 1)\n",
    "                          (\"orientation\" . \"horizontal\")\n",
    "                          (\"readout\" . :true)\n",
    "                          (\"readout_format\" . \"d\")\n",
    "                          (\"step\" . 1)\n",
    "                          (\"style\" . \"IPY_MODEL_c805a28170174967957af602c6dea766\")\n",
    "                          (\"value\" . 0)\n",
    "                          ))))\n",
    "   (\"target_module\" . :false)\n",
    "   (\"target_name\" . \"jupyter.widget\")\n",
    "   ))\n"
   ]
  },
  {
   "cell_type": "code",
   "execution_count": 1,
   "metadata": {},
   "outputs": [
    {
     "data": {
      "text/plain": [
       "1"
      ]
     },
     "execution_count": 1,
     "metadata": {},
     "output_type": "execute_result"
    }
   ],
   "source": [
    "1"
   ]
  },
  {
   "cell_type": "code",
   "execution_count": 2,
   "metadata": {},
   "outputs": [
    {
     "data": {
      "text/plain": [
       "NIL"
      ]
     },
     "execution_count": 2,
     "metadata": {},
     "output_type": "execute_result"
    }
   ],
   "source": [
    "(apropos \"send-comm-open\")"
   ]
  },
  {
   "cell_type": "code",
   "execution_count": 3,
   "metadata": {},
   "outputs": [
    {
     "name": "stdout",
     "output_type": "stream",
     "text": [
      "Backtrace done\n"
     ]
    },
    {
     "name": "stderr",
     "output_type": "stream",
     "text": [
      "An error occurred of type: LOAD-SYSTEM-DEFINITION-ERROR: \n",
      "  #<ASDF/FIND-SYSTEM:LOAD-SYSTEM-DEFINITION-ERROR>\n"
     ]
    },
    {
     "data": {
      "text/plain": [
       "NIL"
      ]
     },
     "execution_count": 3,
     "metadata": {},
     "output_type": "execute_result"
    }
   ],
   "source": [
    "(ql:quickload \"cl-jupyter-widgets\")"
   ]
  },
  {
   "cell_type": "code",
   "execution_count": null,
   "metadata": {
    "collapsed": true
   },
   "outputs": [],
   "source": []
  }
 ],
 "metadata": {
  "kernelspec": {
   "display_name": "CANDO",
   "language": "lisp",
   "name": "lisp"
  },
  "language_info": {
   "codemirror_mode": "text/x-common-lisp",
   "mimetype": "text/x-common-lisp",
   "name": "common-lisp",
   "pygments_lexer": "common-lisp",
   "version": "X3J13"
  }
 },
 "nbformat": 4,
 "nbformat_minor": 2
}
